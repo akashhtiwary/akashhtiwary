{
  "nbformat": 4,
  "nbformat_minor": 0,
  "metadata": {
    "colab": {
      "provenance": [],
      "authorship_tag": "ABX9TyNajdU1e7TZ0xBdWnFXKMEh",
      "include_colab_link": true
    },
    "kernelspec": {
      "name": "python3",
      "display_name": "Python 3"
    },
    "language_info": {
      "name": "python"
    },
    "accelerator": "GPU",
    "gpuClass": "standard"
  },
  "cells": [
    {
      "cell_type": "markdown",
      "metadata": {
        "id": "view-in-github",
        "colab_type": "text"
      },
      "source": [
        "<a href=\"https://colab.research.google.com/github/akashhtiwary/akashhtiwary/blob/main/Arrythmia_detection_using_DNN.ipynb\" target=\"_parent\"><img src=\"https://colab.research.google.com/assets/colab-badge.svg\" alt=\"Open In Colab\"/></a>"
      ]
    },
    {
      "cell_type": "code",
      "source": [],
      "metadata": {
        "id": "4PsylYeriL4_"
      },
      "execution_count": null,
      "outputs": []
    },
    {
      "cell_type": "code",
      "execution_count": null,
      "metadata": {
        "id": "MmdcDLW7J2TA"
      },
      "outputs": [],
      "source": [
        "import pandas as pd\n",
        "import numpy as np\n",
        "import matplotlib.pyplot as plt\n",
        "from os import listdir"
      ]
    },
    {
      "cell_type": "code",
      "source": [
        "!pip install patool"
      ],
      "metadata": {
        "colab": {
          "base_uri": "https://localhost:8080/"
        },
        "id": "hAZ6IHtUOzUE",
        "outputId": "fa05b1e4-afc4-4f26-ae9d-4f1009b473d0"
      },
      "execution_count": null,
      "outputs": [
        {
          "output_type": "stream",
          "name": "stdout",
          "text": [
            "Looking in indexes: https://pypi.org/simple, https://us-python.pkg.dev/colab-wheels/public/simple/\n",
            "Collecting patool\n",
            "  Downloading patool-1.12-py2.py3-none-any.whl (77 kB)\n",
            "\u001b[2K     \u001b[90m━━━━━━━━━━━━━━━━━━━━━━━━━━━━━━━━━━━━━━━━\u001b[0m \u001b[32m77.5/77.5 KB\u001b[0m \u001b[31m4.4 MB/s\u001b[0m eta \u001b[36m0:00:00\u001b[0m\n",
            "\u001b[?25hInstalling collected packages: patool\n",
            "Successfully installed patool-1.12\n"
          ]
        }
      ]
    },
    {
      "cell_type": "code",
      "source": [
        "import patoolib"
      ],
      "metadata": {
        "id": "NWfxaakvO412"
      },
      "execution_count": null,
      "outputs": []
    },
    {
      "cell_type": "code",
      "source": [
        "patoolib.extract_archive('mit-bih-arrhythmia-database-1.0.0.zip')"
      ],
      "metadata": {
        "colab": {
          "base_uri": "https://localhost:8080/",
          "height": 88
        },
        "id": "yRv3VWd1O9c1",
        "outputId": "32166726-b027-4739-ba15-b25c0efe314e"
      },
      "execution_count": null,
      "outputs": [
        {
          "output_type": "stream",
          "name": "stdout",
          "text": [
            "patool: Extracting mit-bih-arrhythmia-database-1.0.0.zip ...\n",
            "patool: running /usr/bin/7z x -o./Unpack_mzj_pks1 -- mit-bih-arrhythmia-database-1.0.0.zip\n",
            "patool: ... mit-bih-arrhythmia-database-1.0.0.zip extracted to `mit-bih-arrhythmia-database-1.0.0'.\n"
          ]
        },
        {
          "output_type": "execute_result",
          "data": {
            "text/plain": [
              "'mit-bih-arrhythmia-database-1.0.0'"
            ],
            "application/vnd.google.colaboratory.intrinsic+json": {
              "type": "string"
            }
          },
          "metadata": {},
          "execution_count": 5
        }
      ]
    },
    {
      "cell_type": "code",
      "source": [
        "data_path = 'mit-bih-arrhythmia-database-1.0.0/'"
      ],
      "metadata": {
        "id": "lk29k0S-KGdy"
      },
      "execution_count": null,
      "outputs": []
    },
    {
      "cell_type": "code",
      "source": [
        "pts = ['100','101','102','103','104','105','106','107',\n",
        "       '108','109','111','112','113','114','115','116',\n",
        "       '117','118','119','121','122','123','124','200',\n",
        "       '201','202','203','205','207','208','209','210',\n",
        "       '212','213','214','215','217','219','220','221',\n",
        "       '222','223','228','230','231','232','233','234']\n"
      ],
      "metadata": {
        "id": "V2PCgvphKw7B"
      },
      "execution_count": null,
      "outputs": []
    },
    {
      "cell_type": "code",
      "source": [
        "!pip install wfdb"
      ],
      "metadata": {
        "colab": {
          "base_uri": "https://localhost:8080/"
        },
        "id": "8vs0qVhEK87N",
        "outputId": "4d756436-394a-4751-88cb-e5e831abe00a"
      },
      "execution_count": null,
      "outputs": [
        {
          "output_type": "stream",
          "name": "stdout",
          "text": [
            "Looking in indexes: https://pypi.org/simple, https://us-python.pkg.dev/colab-wheels/public/simple/\n",
            "Collecting wfdb\n",
            "  Downloading wfdb-4.1.0-py3-none-any.whl (159 kB)\n",
            "\u001b[2K     \u001b[90m━━━━━━━━━━━━━━━━━━━━━━━━━━━━━━━━━━━━━━━\u001b[0m \u001b[32m159.9/159.9 KB\u001b[0m \u001b[31m5.8 MB/s\u001b[0m eta \u001b[36m0:00:00\u001b[0m\n",
            "\u001b[?25hRequirement already satisfied: requests<3.0.0,>=2.8.1 in /usr/local/lib/python3.8/dist-packages (from wfdb) (2.25.1)\n",
            "Requirement already satisfied: matplotlib<4.0.0,>=3.2.2 in /usr/local/lib/python3.8/dist-packages (from wfdb) (3.5.3)\n",
            "Collecting SoundFile<0.12.0,>=0.10.0\n",
            "  Downloading soundfile-0.11.0-py2.py3-none-any.whl (23 kB)\n",
            "Requirement already satisfied: pandas<2.0.0,>=1.0.0 in /usr/local/lib/python3.8/dist-packages (from wfdb) (1.3.5)\n",
            "Requirement already satisfied: numpy<2.0.0,>=1.10.1 in /usr/local/lib/python3.8/dist-packages (from wfdb) (1.22.4)\n",
            "Requirement already satisfied: scipy<2.0.0,>=1.0.0 in /usr/local/lib/python3.8/dist-packages (from wfdb) (1.10.1)\n",
            "Requirement already satisfied: cycler>=0.10 in /usr/local/lib/python3.8/dist-packages (from matplotlib<4.0.0,>=3.2.2->wfdb) (0.11.0)\n",
            "Requirement already satisfied: python-dateutil>=2.7 in /usr/local/lib/python3.8/dist-packages (from matplotlib<4.0.0,>=3.2.2->wfdb) (2.8.2)\n",
            "Requirement already satisfied: kiwisolver>=1.0.1 in /usr/local/lib/python3.8/dist-packages (from matplotlib<4.0.0,>=3.2.2->wfdb) (1.4.4)\n",
            "Requirement already satisfied: fonttools>=4.22.0 in /usr/local/lib/python3.8/dist-packages (from matplotlib<4.0.0,>=3.2.2->wfdb) (4.38.0)\n",
            "Requirement already satisfied: packaging>=20.0 in /usr/local/lib/python3.8/dist-packages (from matplotlib<4.0.0,>=3.2.2->wfdb) (23.0)\n",
            "Requirement already satisfied: pillow>=6.2.0 in /usr/local/lib/python3.8/dist-packages (from matplotlib<4.0.0,>=3.2.2->wfdb) (8.4.0)\n",
            "Requirement already satisfied: pyparsing>=2.2.1 in /usr/local/lib/python3.8/dist-packages (from matplotlib<4.0.0,>=3.2.2->wfdb) (3.0.9)\n",
            "Requirement already satisfied: pytz>=2017.3 in /usr/local/lib/python3.8/dist-packages (from pandas<2.0.0,>=1.0.0->wfdb) (2022.7.1)\n",
            "Requirement already satisfied: certifi>=2017.4.17 in /usr/local/lib/python3.8/dist-packages (from requests<3.0.0,>=2.8.1->wfdb) (2022.12.7)\n",
            "Requirement already satisfied: chardet<5,>=3.0.2 in /usr/local/lib/python3.8/dist-packages (from requests<3.0.0,>=2.8.1->wfdb) (4.0.0)\n",
            "Requirement already satisfied: urllib3<1.27,>=1.21.1 in /usr/local/lib/python3.8/dist-packages (from requests<3.0.0,>=2.8.1->wfdb) (1.26.14)\n",
            "Requirement already satisfied: idna<3,>=2.5 in /usr/local/lib/python3.8/dist-packages (from requests<3.0.0,>=2.8.1->wfdb) (2.10)\n",
            "Requirement already satisfied: cffi>=1.0 in /usr/local/lib/python3.8/dist-packages (from SoundFile<0.12.0,>=0.10.0->wfdb) (1.15.1)\n",
            "Requirement already satisfied: pycparser in /usr/local/lib/python3.8/dist-packages (from cffi>=1.0->SoundFile<0.12.0,>=0.10.0->wfdb) (2.21)\n",
            "Requirement already satisfied: six>=1.5 in /usr/local/lib/python3.8/dist-packages (from python-dateutil>=2.7->matplotlib<4.0.0,>=3.2.2->wfdb) (1.15.0)\n",
            "Installing collected packages: SoundFile, wfdb\n",
            "  Attempting uninstall: SoundFile\n",
            "    Found existing installation: soundfile 0.12.1\n",
            "    Uninstalling soundfile-0.12.1:\n",
            "      Successfully uninstalled soundfile-0.12.1\n",
            "Successfully installed SoundFile-0.11.0 wfdb-4.1.0\n"
          ]
        }
      ]
    },
    {
      "cell_type": "code",
      "source": [
        "import wfdb"
      ],
      "metadata": {
        "id": "4btjLOrULWDL"
      },
      "execution_count": null,
      "outputs": []
    },
    {
      "cell_type": "code",
      "source": [
        "df = pd.DataFrame()\n",
        "\n",
        "for pt in pts:\n",
        "    file = data_path + pt\n",
        "    annotation = wfdb.rdann(file, 'atr')\n",
        "    sym = annotation.symbol\n",
        "    \n",
        "    values, counts = np.unique(sym, return_counts=True)\n",
        "    df_sub = pd.DataFrame({'sym':values, 'val':counts, 'pt':[pt]*len(counts)})\n",
        "    df = pd.concat([df, df_sub],axis = 0)"
      ],
      "metadata": {
        "id": "GXJP0qixLba5"
      },
      "execution_count": null,
      "outputs": []
    },
    {
      "cell_type": "code",
      "source": [
        "df.groupby('sym').val.sum().sort_values(ascending = False)"
      ],
      "metadata": {
        "colab": {
          "base_uri": "https://localhost:8080/"
        },
        "id": "bjpqCeM0TDdV",
        "outputId": "10d0c1bb-e253-463b-ff9e-d83a6f51e741"
      },
      "execution_count": null,
      "outputs": [
        {
          "output_type": "execute_result",
          "data": {
            "text/plain": [
              "sym\n",
              "N    75052\n",
              "L     8075\n",
              "R     7259\n",
              "V     7130\n",
              "/     7028\n",
              "A     2546\n",
              "+     1291\n",
              "f      982\n",
              "F      803\n",
              "~      616\n",
              "!      472\n",
              "\"      437\n",
              "j      229\n",
              "x      193\n",
              "a      150\n",
              "|      132\n",
              "E      106\n",
              "J       83\n",
              "Q       33\n",
              "e       16\n",
              "[        6\n",
              "]        6\n",
              "S        2\n",
              "Name: val, dtype: int64"
            ]
          },
          "metadata": {},
          "execution_count": 11
        }
      ]
    },
    {
      "cell_type": "code",
      "source": [
        "nonbeat = ['[','!',']','x','(',')','p','t','u','`',\n",
        "           '\\'','^','|','~','+','s','T','*','D','=','\"','@','Q','?']\n",
        "abnormal = ['L','R','V','/','A','f','F','j','a','E','J','e','S']"
      ],
      "metadata": {
        "id": "yZMNow8aTJw-"
      },
      "execution_count": null,
      "outputs": []
    },
    {
      "cell_type": "code",
      "source": [
        "df['cat'] = -1\n",
        "df.loc[df.sym == 'N','cat'] = 0\n",
        "df.loc[df.sym.isin(abnormal), 'cat'] = 1"
      ],
      "metadata": {
        "id": "RmEDSnCWTMMr"
      },
      "execution_count": null,
      "outputs": []
    },
    {
      "cell_type": "code",
      "source": [
        "df.groupby('cat').val.sum()"
      ],
      "metadata": {
        "colab": {
          "base_uri": "https://localhost:8080/"
        },
        "id": "WNX2vodoTSsw",
        "outputId": "4888227a-14f5-4b7b-909b-8c2ddd7d5515"
      },
      "execution_count": null,
      "outputs": [
        {
          "output_type": "execute_result",
          "data": {
            "text/plain": [
              "cat\n",
              "-1     3186\n",
              " 0    75052\n",
              " 1    34409\n",
              "Name: val, dtype: int64"
            ]
          },
          "metadata": {},
          "execution_count": 14
        }
      ]
    },
    {
      "cell_type": "code",
      "source": [
        "def load_ecg(file):\n",
        "    # load the ecg\n",
        "    # example file: 'mit-bih-arrhythmia-database-1.0.0/101'\n",
        "    \n",
        "    # load the ecg\n",
        "    record = wfdb.rdrecord(file)\n",
        "    # load the annotation\n",
        "    annotation = wfdb.rdann(file, 'atr')\n",
        "    \n",
        "    # extract the signal\n",
        "    p_signal = record.p_signal\n",
        "    \n",
        "    # verify frequency is 360\n",
        "    assert record.fs == 360, 'sample freq is not 360'\n",
        "    \n",
        "    # extract symbols and annotation index\n",
        "    atr_sym = annotation.symbol\n",
        "    atr_sample = annotation.sample\n",
        "    \n",
        "    return p_signal, atr_sym, atr_sample "
      ],
      "metadata": {
        "id": "1G8wqC0OTakS"
      },
      "execution_count": null,
      "outputs": []
    },
    {
      "cell_type": "code",
      "source": [
        "file = data_path + pts[0]"
      ],
      "metadata": {
        "id": "0NIxtNzVTcty"
      },
      "execution_count": null,
      "outputs": []
    },
    {
      "cell_type": "code",
      "source": [
        "p_signal, atr_sym, atr_sample = load_ecg(file)"
      ],
      "metadata": {
        "id": "cJ7QncZCTjZO"
      },
      "execution_count": null,
      "outputs": []
    },
    {
      "cell_type": "code",
      "source": [
        "values, counts = np.unique(sym, return_counts=True)\n",
        "for v,c in zip(values, counts):\n",
        "    print(v,c)"
      ],
      "metadata": {
        "colab": {
          "base_uri": "https://localhost:8080/"
        },
        "id": "Rbxw8Yj3Toer",
        "outputId": "5aaad9e6-f0d9-4fbf-bae9-4c38a51e11b1"
      },
      "execution_count": null,
      "outputs": [
        {
          "output_type": "stream",
          "name": "stdout",
          "text": [
            "+ 3\n",
            "J 50\n",
            "N 2700\n",
            "V 3\n",
            "~ 8\n"
          ]
        }
      ]
    },
    {
      "cell_type": "code",
      "source": [
        "ab_index = [b for a,b in zip(atr_sym,atr_sample) if a in abnormal][:10]\n",
        "ab_index"
      ],
      "metadata": {
        "colab": {
          "base_uri": "https://localhost:8080/"
        },
        "id": "oBI9KT7NTqgE",
        "outputId": "4e64d805-6c27-43ad-fdfe-db24bd9d0bbb"
      },
      "execution_count": null,
      "outputs": [
        {
          "output_type": "execute_result",
          "data": {
            "text/plain": [
              "[2044, 66792, 74986, 99579, 128085, 170719, 279576, 305709, 307745, 312825]"
            ]
          },
          "metadata": {},
          "execution_count": 19
        }
      ]
    },
    {
      "cell_type": "code",
      "source": [
        "x = np.arange(len(p_signal))"
      ],
      "metadata": {
        "id": "0dxUMHwLTy6_"
      },
      "execution_count": null,
      "outputs": []
    },
    {
      "cell_type": "code",
      "source": [
        "left = ab_index[1]-1080\n",
        "right = ab_index[1]+1080\n",
        "\n",
        "plt.plot(x[left:right],p_signal[left:right,0],'-',label='ecg',)\n",
        "plt.plot(x[atr_sample],p_signal[atr_sample,0],'go',label ='normal')\n",
        "plt.plot(x[ab_index],p_signal[ab_index,0],'ro',label='abnormal')\n",
        "\n",
        "plt.xlim(left,right)\n",
        "plt.ylim(p_signal[left:right].min()-0.05,p_signal[left:right,0].max()+0.05)\n",
        "plt.xlabel('time index')\n",
        "plt.ylabel('ECG signal')\n",
        "plt.legend(bbox_to_anchor = (1.04,1), loc = 'upper left')\n",
        "plt.show()"
      ],
      "metadata": {
        "colab": {
          "base_uri": "https://localhost:8080/",
          "height": 279
        },
        "id": "9Ci62nVnT3uv",
        "outputId": "d6052349-97b0-458b-a5a0-a6235d6f6834"
      },
      "execution_count": null,
      "outputs": [
        {
          "output_type": "display_data",
          "data": {
            "text/plain": [
              "<Figure size 432x288 with 1 Axes>"
            ],
            "image/png": "[encoded data removed]"
          },
          "metadata": {
            "needs_background": "light"
          }
        }
      ]
    },
    {
      "cell_type": "code",
      "source": [
        "def make_dataset(pts, num_sec, fs, abnormal):\n",
        "    # function for making dataset ignoring non-beats\n",
        "    # input:\n",
        "    # pts - list of patients\n",
        "    # num_sec = number of seconds to include before and after the beat\n",
        "    # fs = frequency\n",
        "    # output: \n",
        "    #   X_all = signal (nbeats , num_sec * fs columns)\n",
        "    #   Y_all = binary is abnormal (nbeats, 1)\n",
        "    #   sym_all = beat annotation symbol (nbeats,1)\n",
        "    \n",
        "    # initialize numpy arrays\n",
        "    num_cols = 2*num_sec * fs\n",
        "    X_all = np.zeros((1,num_cols))\n",
        "    Y_all = np.zeros((1,1))\n",
        "    sym_all = []\n",
        "    \n",
        "    # list to keep track of number of beats across patients\n",
        "    max_rows = []\n",
        "    \n",
        "    for pt in pts:\n",
        "        file = data_path + pt\n",
        "        \n",
        "        p_signal, atr_sym, atr_sample = load_ecg(file)\n",
        "        \n",
        "        # grab the first signal\n",
        "        p_signal = p_signal[:,0]\n",
        "        df_ann = pd.DataFrame({'atr_sym':atr_sym,\n",
        "                              'atr_sample':atr_sample})\n",
        "        df_ann = df_ann.loc[df_ann.atr_sym.isin(abnormal + ['N'])]\n",
        "        \n",
        "        X,Y,sym = build_XY(p_signal,df_ann, num_cols, abnormal)\n",
        "        sym_all = sym_all+sym\n",
        "        max_rows.append(X.shape[0])\n",
        "        X_all = np.append(X_all,X,axis = 0)\n",
        "        Y_all = np.append(Y_all,Y,axis = 0)\n",
        "    # drop the first zero row\n",
        "    X_all = X_all[1:,:]\n",
        "    Y_all = Y_all[1:,:]\n",
        "    \n",
        "    # check sizes make sense\n",
        "    assert np.sum(max_rows) == X_all.shape[0], 'number of X, max_rows rows messed up'\n",
        "    assert Y_all.shape[0] == X_all.shape[0], 'number of X, Y rows messed up'\n",
        "    assert Y_all.shape[0] == len(sym_all), 'number of Y, sym rows messed up'\n",
        "\n",
        "    return X_all, Y_all, sym_all\n",
        "\n",
        "\n",
        "\n",
        "def build_XY(p_signal, df_ann, num_cols, abnormal):\n",
        "    # this function builds the X,Y matrices for each beat\n",
        "    # it also returns the original symbols for Y\n",
        "    \n",
        "    num_rows = len(df_ann)\n",
        "\n",
        "    X = np.zeros((num_rows, num_cols))\n",
        "    Y = np.zeros((num_rows,1))\n",
        "    sym = []\n",
        "    \n",
        "    # keep track of rows\n",
        "    max_row = 0\n",
        "\n",
        "    for atr_sample, atr_sym in zip(df_ann.atr_sample.values,df_ann.atr_sym.values):\n",
        "\n",
        "        left = max([0,(atr_sample - num_sec*fs) ])\n",
        "        right = min([len(p_signal),(atr_sample + num_sec*fs) ])\n",
        "        x = p_signal[left: right]\n",
        "        if len(x) == num_cols:\n",
        "            X[max_row,:] = x\n",
        "            Y[max_row,:] = int(atr_sym in abnormal)\n",
        "            sym.append(atr_sym)\n",
        "            max_row += 1\n",
        "    X = X[:max_row,:]\n",
        "    Y = Y[:max_row,:]\n",
        "    return X,Y,sym\n",
        "    "
      ],
      "metadata": {
        "id": "8TGWJwhDT6SP"
      },
      "execution_count": null,
      "outputs": []
    },
    {
      "cell_type": "code",
      "source": [
        "num_sec = 3\n",
        "fs = 360"
      ],
      "metadata": {
        "id": "Qz5CUs0dUv-6"
      },
      "execution_count": null,
      "outputs": []
    },
    {
      "cell_type": "code",
      "source": [
        "X_all, Y_all, sym_all = make_dataset(pts, num_sec, fs, abnormal)"
      ],
      "metadata": {
        "id": "ainefi8PU5LF"
      },
      "execution_count": null,
      "outputs": []
    },
    {
      "cell_type": "code",
      "source": [
        "from sklearn.model_selection import train_test_split\n",
        "\n",
        "X_train, X_valid, y_train, y_valid = train_test_split(X_all, Y_all, test_size=0.33, random_state=42)"
      ],
      "metadata": {
        "id": "jjCgKJcAVGYL"
      },
      "execution_count": null,
      "outputs": []
    },
    {
      "cell_type": "code",
      "source": [
        "from keras.models import Sequential\n",
        "from keras.layers import Dense, Flatten, Dropout\n",
        "from keras.utils import to_categorical"
      ],
      "metadata": {
        "id": "sFMoDbQDVMMr"
      },
      "execution_count": null,
      "outputs": []
    },
    {
      "cell_type": "code",
      "source": [
        "# build the same model\n",
        "# lets test out relu (a different activation function) and add drop out (for regularization)\n",
        "model = Sequential()\n",
        "model.add(Dense(32, activation = 'relu', input_dim = X_train.shape[1]))\n",
        "model.add(Dropout(rate = 0.25))\n",
        "model.add(Dense(1, activation = 'sigmoid'))"
      ],
      "metadata": {
        "id": "F-zmYnq9VTnZ"
      },
      "execution_count": null,
      "outputs": []
    },
    {
      "cell_type": "code",
      "source": [
        "# compile the model - use categorical crossentropy, and the adam optimizer\n",
        "model.compile(\n",
        "                loss = 'binary_crossentropy',\n",
        "                optimizer = 'adam',\n",
        "                metrics = ['accuracy'])"
      ],
      "metadata": {
        "id": "hajjDKthVYoo"
      },
      "execution_count": null,
      "outputs": []
    },
    {
      "cell_type": "code",
      "source": [
        "model.fit(X_train, y_train, batch_size = 32, epochs= 5, verbose = 1)"
      ],
      "metadata": {
        "colab": {
          "base_uri": "https://localhost:8080/"
        },
        "id": "xew7RkZCVdkH",
        "outputId": "8bae4ea3-edfd-44e4-8a32-b85bf6d629a3"
      },
      "execution_count": null,
      "outputs": [
        {
          "output_type": "stream",
          "name": "stdout",
          "text": [
            "Epoch 1/5\n",
            "2285/2285 [==============================] - 16s 4ms/step - loss: 0.2568 - accuracy: 0.9036\n",
            "Epoch 2/5\n",
            "2285/2285 [==============================] - 8s 3ms/step - loss: 0.1626 - accuracy: 0.9472\n",
            "Epoch 3/5\n",
            "2285/2285 [==============================] - 8s 4ms/step - loss: 0.1432 - accuracy: 0.9560\n",
            "Epoch 4/5\n",
            "2285/2285 [==============================] - 8s 4ms/step - loss: 0.1313 - accuracy: 0.9601\n",
            "Epoch 5/5\n",
            "2285/2285 [==============================] - 8s 3ms/step - loss: 0.1243 - accuracy: 0.9617\n"
          ]
        },
        {
          "output_type": "execute_result",
          "data": {
            "text/plain": [
              "<keras.callbacks.History at 0x7f11d0270250>"
            ]
          },
          "metadata": {},
          "execution_count": 29
        }
      ]
    },
    {
      "cell_type": "code",
      "source": [
        "from sklearn.metrics import roc_auc_score, accuracy_score, precision_score, recall_score\n",
        "def calc_prevalence(y_actual):\n",
        "    return (sum(y_actual)/len(y_actual))\n",
        "def calc_specificity(y_actual, y_pred, thresh):\n",
        "    # calculates specificity\n",
        "    return sum((y_pred < thresh) & (y_actual == 0)) /sum(y_actual ==0)\n",
        "def print_report(y_actual, y_pred, thresh):\n",
        "    \n",
        "    auc = roc_auc_score(y_actual, y_pred)\n",
        "    accuracy = accuracy_score(y_actual, (y_pred > thresh))\n",
        "    recall = recall_score(y_actual, (y_pred > thresh))\n",
        "    precision = precision_score(y_actual, (y_pred > thresh))\n",
        "    specificity = calc_specificity(y_actual, y_pred, thresh)\n",
        "    print('AUC:%.3f'%auc)\n",
        "    print('accuracy:%.3f'%accuracy)\n",
        "    print('recall:%.3f'%recall)\n",
        "    print('precision:%.3f'%precision)\n",
        "    print('specificity:%.3f'%specificity)\n",
        "    print('prevalence:%.3f'%calc_prevalence(y_actual))\n",
        "    print(' ')\n",
        "    return auc, accuracy, recall, precision, specificity"
      ],
      "metadata": {
        "id": "_z4yKojpV31C"
      },
      "execution_count": null,
      "outputs": []
    },
    {
      "cell_type": "code",
      "source": [
        "y_train_preds_dense = model.predict(X_train,verbose = 1)\n",
        "y_valid_preds_dense = model.predict(X_valid,verbose = 1)"
      ],
      "metadata": {
        "colab": {
          "base_uri": "https://localhost:8080/"
        },
        "id": "XAbGvGXgV8lm",
        "outputId": "25522f43-6b5b-4cc6-9ea8-756333434577"
      },
      "execution_count": null,
      "outputs": [
        {
          "output_type": "stream",
          "name": "stdout",
          "text": [
            "2285/2285 [==============================] - 4s 2ms/step\n",
            "1126/1126 [==============================] - 3s 2ms/step\n"
          ]
        }
      ]
    },
    {
      "cell_type": "code",
      "source": [
        "thresh = (sum(y_train)/len(y_train))[0]\n",
        "thresh"
      ],
      "metadata": {
        "colab": {
          "base_uri": "https://localhost:8080/"
        },
        "id": "MNl8LKYIWfKY",
        "outputId": "9e54362b-6625-4fe9-d576-3e177d249412"
      },
      "execution_count": null,
      "outputs": [
        {
          "output_type": "execute_result",
          "data": {
            "text/plain": [
              "0.3147641457808909"
            ]
          },
          "metadata": {},
          "execution_count": 32
        }
      ]
    },
    {
      "cell_type": "code",
      "source": [
        "print('Train');\n",
        "print_report(y_train, y_train_preds_dense, thresh)\n",
        "print('Valid');\n",
        "print_report(y_valid, y_valid_preds_dense, thresh);"
      ],
      "metadata": {
        "colab": {
          "base_uri": "https://localhost:8080/"
        },
        "id": "Ah2T7PBGWjdO",
        "outputId": "c5b61f6d-bbc8-4ac4-af5a-f8e5a940faf2"
      },
      "execution_count": null,
      "outputs": [
        {
          "output_type": "stream",
          "name": "stdout",
          "text": [
            "Train\n",
            "AUC:0.993\n",
            "accuracy:0.974\n",
            "recall:0.951\n",
            "precision:0.967\n",
            "specificity:0.985\n",
            "prevalence:0.315\n",
            " \n",
            "Valid\n",
            "AUC:0.989\n",
            "accuracy:0.968\n",
            "recall:0.939\n",
            "precision:0.957\n",
            "specificity:0.981\n",
            "prevalence:0.314\n",
            " \n"
          ]
        }
      ]
    },
    {
      "cell_type": "code",
      "source": [
        "import random\n",
        "random.seed( 42 )\n",
        "pts_train = random.sample(pts, 36)\n",
        "pts_valid = [pt for pt in pts if pt not in pts_train]\n",
        "print(len(pts_train), len(pts_valid))"
      ],
      "metadata": {
        "colab": {
          "base_uri": "https://localhost:8080/"
        },
        "id": "S66vpIooWuwC",
        "outputId": "81d58d2b-058c-4b38-dda7-2bc1c1edda35"
      },
      "execution_count": null,
      "outputs": [
        {
          "output_type": "stream",
          "name": "stdout",
          "text": [
            "36 12\n"
          ]
        }
      ]
    },
    {
      "cell_type": "code",
      "source": [
        "X_train, y_train, sym_train = make_dataset(pts_train, num_sec, fs, abnormal)\n",
        "X_valid, y_valid, sym_valid = make_dataset(pts_valid, num_sec, fs, abnormal)\n",
        "print(X_train.shape, y_train.shape, len(sym_train))\n",
        "print(X_valid.shape, y_valid.shape, len(sym_valid))"
      ],
      "metadata": {
        "id": "8rDtUOFoWxCh"
      },
      "execution_count": null,
      "outputs": []
    },
    {
      "cell_type": "code",
      "source": [
        "# build the same model\n",
        "# lets test out relu (a different activation function) and add drop out (for regularization)\n",
        "model = Sequential()\n",
        "model.add(Dense(32, activation = 'relu', input_dim = X_train.shape[1]))\n",
        "model.add(Dropout(rate = 0.25))\n",
        "model.add(Dense(1, activation = 'sigmoid'))\n",
        "\n",
        "# compile the model - use categorical crossentropy, and the adam optimizer\n",
        "model.compile(\n",
        "                loss = 'binary_crossentropy',\n",
        "                optimizer = 'adam',\n",
        "                metrics = ['accuracy'])\n",
        "\n",
        "model.fit(X_train, y_train, batch_size = 32, epochs= 5, verbose = 1)"
      ],
      "metadata": {
        "colab": {
          "base_uri": "https://localhost:8080/"
        },
        "id": "Hd-cmoNGXNNE",
        "outputId": "a852acd7-7c68-40b6-fb36-b2aebfd92c07"
      },
      "execution_count": null,
      "outputs": [
        {
          "output_type": "stream",
          "name": "stdout",
          "text": [
            "Epoch 1/5\n",
            "2520/2520 [==============================] - 26s 10ms/step - loss: 0.2265 - accuracy: 0.9200\n",
            "Epoch 2/5\n",
            "2520/2520 [==============================] - 18s 7ms/step - loss: 0.1462 - accuracy: 0.9562\n",
            "Epoch 3/5\n",
            "2520/2520 [==============================] - 12s 5ms/step - loss: 0.1290 - accuracy: 0.9618\n",
            "Epoch 4/5\n",
            "2520/2520 [==============================] - 12s 5ms/step - loss: 0.1167 - accuracy: 0.9646\n",
            "Epoch 5/5\n",
            "2520/2520 [==============================] - 12s 5ms/step - loss: 0.1119 - accuracy: 0.9673\n"
          ]
        },
        {
          "output_type": "execute_result",
          "data": {
            "text/plain": [
              "<keras.callbacks.History at 0x7f2fab764370>"
            ]
          },
          "metadata": {},
          "execution_count": 40
        }
      ]
    },
    {
      "cell_type": "code",
      "source": [
        "y_train_preds_dense = model.predict(X_train,verbose = 1)\n",
        "y_valid_preds_dense = model.predict(X_valid,verbose = 1)"
      ],
      "metadata": {
        "colab": {
          "base_uri": "https://localhost:8080/"
        },
        "id": "WUI4uzELXjND",
        "outputId": "2b3d9590-0d3b-455a-9dff-06dee7604618"
      },
      "execution_count": null,
      "outputs": [
        {
          "output_type": "stream",
          "name": "stdout",
          "text": [
            "2520/2520 [==============================] - 6s 2ms/step\n",
            "891/891 [==============================] - 2s 3ms/step\n"
          ]
        }
      ]
    },
    {
      "cell_type": "code",
      "source": [
        "thresh = (sum(y_train)/len(y_train))[0]\n",
        "thresh"
      ],
      "metadata": {
        "colab": {
          "base_uri": "https://localhost:8080/"
        },
        "id": "bWJxkbeAXxit",
        "outputId": "61bb1cbd-c367-40be-9f43-6c6ad6d75636"
      },
      "execution_count": null,
      "outputs": [
        {
          "output_type": "execute_result",
          "data": {
            "text/plain": [
              "0.29906715955045027"
            ]
          },
          "metadata": {},
          "execution_count": 42
        }
      ]
    },
    {
      "cell_type": "code",
      "source": [
        "print('Train');\n",
        "print_report(y_train, y_train_preds_dense, thresh)\n",
        "print('Valid');\n",
        "print_report(y_valid, y_valid_preds_dense, thresh);"
      ],
      "metadata": {
        "colab": {
          "base_uri": "https://localhost:8080/"
        },
        "id": "-hDhFlxMX55Y",
        "outputId": "71df8c9b-1723-43e5-e1b9-d21e09383f83"
      },
      "execution_count": null,
      "outputs": [
        {
          "output_type": "stream",
          "name": "stdout",
          "text": [
            "Train\n",
            "AUC:0.993\n",
            "accuracy:0.977\n",
            "recall:0.950\n",
            "precision:0.973\n",
            "specificity:0.989\n",
            "prevalence:0.299\n",
            " \n",
            "Valid\n",
            "AUC:0.845\n",
            "accuracy:0.769\n",
            "recall:0.424\n",
            "precision:0.858\n",
            "specificity:0.961\n",
            "prevalence:0.358\n",
            " \n"
          ]
        }
      ]
    },
    {
      "cell_type": "code",
      "source": [
        "aucs_train = []\n",
        "aucs_valid = []\n",
        "\n",
        "n_pts = [1,18,36]\n",
        "for n_pt in n_pts:\n",
        "    \n",
        "    print(n_pt)\n",
        "    pts_sub = pts_train[:n_pt]\n",
        "    X_sub, y_sub, sym_sub = make_dataset(pts_sub, num_sec, fs,abnormal)\n",
        "\n",
        "    # build the same model\n",
        "    # lets test out relu (a different activation function) and add drop out (for regularization)\n",
        "    model = Sequential()\n",
        "    model.add(Dense(32, activation = 'relu', input_dim = X_train.shape[1]))\n",
        "    model.add(Dropout(rate = 0.25))\n",
        "    model.add(Dense(1, activation = 'sigmoid'))\n",
        "\n",
        "    # compile the model - use categorical crossentropy, and the adam optimizer\n",
        "    model.compile(\n",
        "                    loss = 'binary_crossentropy',\n",
        "                    optimizer = 'adam',\n",
        "                    metrics = ['accuracy'])\n",
        "\n",
        "    model.fit(X_sub, y_sub, batch_size = 32, epochs= 5, verbose = 0)\n",
        "    y_sub_preds_dense = model.predict(X_sub,verbose = 0)\n",
        "    y_valid_preds_dense = model.predict(X_valid,verbose = 0)\n",
        "    \n",
        "    auc_train = roc_auc_score(y_sub, y_sub_preds_dense)\n",
        "    auc_valid = roc_auc_score(y_valid, y_valid_preds_dense)\n",
        "    print('-',auc_train, auc_valid)\n",
        "    aucs_train.append(auc_train)\n",
        "    aucs_valid.append(auc_valid)"
      ],
      "metadata": {
        "colab": {
          "base_uri": "https://localhost:8080/"
        },
        "id": "33uGcZR9YBkH",
        "outputId": "8f364d7d-cdb6-490e-c684-01de1d16b225"
      },
      "execution_count": null,
      "outputs": [
        {
          "output_type": "stream",
          "name": "stdout",
          "text": [
            "1\n",
            "- 0.9482224610760221 0.6873606606654117\n",
            "18\n",
            "- 0.9957418953172662 0.8213335635801703\n",
            "36\n",
            "- 0.9923366332042494 0.899410130127897\n"
          ]
        }
      ]
    },
    {
      "cell_type": "code",
      "source": [
        "plt.plot(n_pts, aucs_train, 'o-',label = 'Train')\n",
        "plt.plot(n_pts, aucs_valid, 'o-',label = 'Valid')\n",
        "plt.xlabel('Number Training Pts')\n",
        "plt.ylabel('AUC')\n",
        "plt.legend(bbox_to_anchor = (1.04,1), loc = 'upper left')\n",
        "plt.show()"
      ],
      "metadata": {
        "colab": {
          "base_uri": "https://localhost:8080/",
          "height": 279
        },
        "id": "yq5Sn3JRYsu_",
        "outputId": "cab75705-a83d-4ce2-b22e-8f99f8599172"
      },
      "execution_count": null,
      "outputs": [
        {
          "output_type": "display_data",
          "data": {
            "text/plain": [
              "<Figure size 432x288 with 1 Axes>"
            ],
            "image/png": "[encoded data removed]"
          },
          "metadata": {
            "needs_background": "light"
          }
        }
      ]
    }
  ]
}